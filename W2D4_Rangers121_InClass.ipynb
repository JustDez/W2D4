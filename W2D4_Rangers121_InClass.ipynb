{
 "cells": [
  {
   "cell_type": "markdown",
   "metadata": {},
   "source": [
    "# User-Defined Functions & Scoping"
   ]
  },
  {
   "cell_type": "markdown",
   "metadata": {},
   "source": [
    "## Tasks Today:\n",
    "\n",
    "\n",
    "1) Functions <br>\n",
    " &nbsp;&nbsp;&nbsp;&nbsp; a) User-Defined vs. Built-In Functions <br>\n",
    " &nbsp;&nbsp;&nbsp;&nbsp; b) Accepting Parameters <br>\n",
    " &nbsp;&nbsp;&nbsp;&nbsp; c) Default Parameters <br>\n",
    " &nbsp;&nbsp;&nbsp;&nbsp; d) Making an Argument Optional <br>\n",
    " &nbsp;&nbsp;&nbsp;&nbsp; e) Keyword Arguments <br>\n",
    " &nbsp;&nbsp;&nbsp;&nbsp; f) Returning Values <br>\n",
    " &nbsp;&nbsp;&nbsp;&nbsp; g) *args <br>\n",
    " &nbsp;&nbsp;&nbsp;&nbsp; h) Docstring <br>\n",
    " &nbsp;&nbsp;&nbsp;&nbsp; i) Using a User Function in a Loop <br>\n",
    "2) Scope\n",
    "3) Creating more User-Defined functions "
   ]
  },
  {
   "cell_type": "markdown",
   "metadata": {},
   "source": [
    "\n",
    "## Functions"
   ]
  },
  {
   "cell_type": "markdown",
   "metadata": {},
   "source": [
    "##### User-Defined vs. Built-In Functions"
   ]
  },
  {
   "cell_type": "code",
   "execution_count": null,
   "metadata": {},
   "outputs": [],
   "source": []
  },
  {
   "cell_type": "markdown",
   "metadata": {},
   "source": [
    "##### Accepting Parameters"
   ]
  },
  {
   "cell_type": "code",
   "execution_count": null,
   "metadata": {
    "scrolled": true
   },
   "outputs": [],
   "source": [
    "# elements passed into a function\n",
    "# variables to hold the place of items our function will act upon\n",
    "# order matters\n",
    "# a parameter can be of any object type (data type)\n",
    "                    #parameter\n"
   ]
  },
  {
   "cell_type": "markdown",
   "metadata": {},
   "source": [
    "##### Default Parameters"
   ]
  },
  {
   "cell_type": "code",
   "execution_count": null,
   "metadata": {},
   "outputs": [],
   "source": [
    "# default parameters must always come after non-default parameters at all times forever and ever...or else\n"
   ]
  },
  {
   "cell_type": "code",
   "execution_count": null,
   "metadata": {},
   "outputs": [],
   "source": [
    "# default parameters must always come after non-default parameters at all times forever and ever...or else\n",
    "\n"
   ]
  },
  {
   "cell_type": "markdown",
   "metadata": {},
   "source": [
    "##### Making an Argument Optional"
   ]
  },
  {
   "cell_type": "code",
   "execution_count": null,
   "metadata": {},
   "outputs": [],
   "source": []
  },
  {
   "cell_type": "markdown",
   "metadata": {},
   "source": [
    "##### Keyword Arguments"
   ]
  },
  {
   "cell_type": "code",
   "execution_count": null,
   "metadata": {},
   "outputs": [],
   "source": [
    "#keyword arguments must follow positional arugments\n"
   ]
  },
  {
   "cell_type": "markdown",
   "metadata": {},
   "source": [
    "# Creating a start, stop, step function"
   ]
  },
  {
   "cell_type": "code",
   "execution_count": null,
   "metadata": {
    "scrolled": true
   },
   "outputs": [],
   "source": []
  },
  {
   "cell_type": "markdown",
   "metadata": {},
   "source": [
    "##### Returning Values"
   ]
  },
  {
   "cell_type": "code",
   "execution_count": null,
   "metadata": {},
   "outputs": [],
   "source": []
  },
  {
   "cell_type": "markdown",
   "metadata": {},
   "source": [
    "##### *args / **kwargs (keyword arguments)"
   ]
  },
  {
   "cell_type": "code",
   "execution_count": null,
   "metadata": {},
   "outputs": [],
   "source": [
    "#*args, **kwargs\n",
    "# *args stands for arguments and will allow the function to take in any number of arguments\n",
    "# **kwargs stands for key word arguments and will allow the function to take in any number of keyword arguments\n",
    "# if other parameters are present, args and kwarfs must go last\n",
    "\n",
    "\n",
    "def dbz_info(*characters, **signature_moves):\n",
    "    print(\"Looping through all of our *args: \")\n",
    "    print(characters)\n",
    "    for char in characters:\n",
    "        print(char)\n",
    "    print(signature_moves)\n",
    "    for k,v in signature_moves.items():\n",
    "        print(f\"{k}'s special move is {v}\")\n",
    "        \n",
    "dbz_info(\"Krillin\", \"Goku\", \"Piccolo\", \"Dende\", \"Gohan\", Krillin = \"Destructo Disc\", Goku = \"Kamehameha\", Piccolo = \"Special Beam Cannon\", Gohan = \"Masenko\")\n",
    "\n",
    "\n",
    "Krillin = \"Destructo Disc\", Goku = \"Kamehameha\", Piccolo = \"Special Beam Cannon\", Gohan = \"Masenko\"\n",
    "\n"
   ]
  },
  {
   "cell_type": "markdown",
   "metadata": {},
   "source": [
    "##### Docstring"
   ]
  },
  {
   "cell_type": "code",
   "execution_count": null,
   "metadata": {},
   "outputs": [],
   "source": [
    "# docstrings are a really nice way to leave notes about funciontality in your code\n",
    "# provide instructions\n",
    "\n",
    "    "
   ]
  },
  {
   "cell_type": "markdown",
   "metadata": {},
   "source": [
    "##### Using a User Function in a Loop"
   ]
  },
  {
   "cell_type": "code",
   "execution_count": null,
   "metadata": {},
   "outputs": [],
   "source": []
  },
  {
   "cell_type": "code",
   "execution_count": null,
   "metadata": {
    "scrolled": true
   },
   "outputs": [],
   "source": []
  },
  {
   "cell_type": "code",
   "execution_count": null,
   "metadata": {},
   "outputs": [],
   "source": []
  },
  {
   "cell_type": "markdown",
   "metadata": {},
   "source": [
    "## Function Exercises <br>\n",
    "### Exercise 1\n",
    "<p>Write a function that loops through a list of first_names and a list of last_names, combines the two and return a list of full_names</p>"
   ]
  },
  {
   "cell_type": "code",
   "execution_count": null,
   "metadata": {},
   "outputs": [],
   "source": [
    "\n",
    "\n",
    "\n"
   ]
  },
  {
   "cell_type": "code",
   "execution_count": 1,
   "metadata": {},
   "outputs": [],
   "source": [
    "first_name = ['John', 'Evan', 'Jordan', 'Max', \"James\"]\n",
    "last_name = ['Smith', 'Smith', 'Williams', 'Bell']\n",
    "\n",
    "\n",
    "# Output: ['John Smith', 'Evan Smith', 'Jordan Williams', 'Max Bell']\n",
    "\n",
    "# def name_info(*first_name, **last_name):\n",
    "#     print(\"Looping through all of our *args: \")\n",
    "#     print(full_name)\n",
    "#     for char in full_name:\n",
    "#         print(char)\n",
    "#     print(last_name)\n",
    "#     for k,v in last_name.items():\n",
    "#         print(f\"{k}{v}\")\n",
    "        \n",
    "# name_info(\"John\", \"Evan\", \"Jordan\", \"Max\",  John = \"Smith\", Evan = \"Smith\", Jordan = \"Williams\", Max = \"Bell\")\n",
    "\n",
    "def full_names(first_names, last_names):\n",
    "    full_name = []\n",
    "    if len(first_names) != len(last_names):\n",
    "        print(\"Those two lists are of different lengths! And i dont want to deal with that!\")\n",
    "        return full_name\n",
    "    else:\n",
    "        for i in range(len(first_names)):\n",
    "            full_name.append(first_names[i] + \" \" + last_names[i])\n",
    "    return full_name\n",
    "\n"
   ]
  },
  {
   "cell_type": "markdown",
   "metadata": {},
   "source": [
    "### Exercise 2\n",
    "Create a function that alters all values in the given list by subtracting 5 and then doubling them."
   ]
  },
  {
   "cell_type": "code",
   "execution_count": null,
   "metadata": {},
   "outputs": [],
   "source": [
    "input_list = [5,10,15,20,3]\n",
    "# output = [0,10,20,30,-4]\n",
    "\n",
    "def func(list9):\n",
    "    return [(i-5)*2 for i in list9]\n",
    "\n",
    "print(func(input_list))\n",
    "    \n",
    "\n",
    "\n"
   ]
  },
  {
   "cell_type": "markdown",
   "metadata": {},
   "source": [
    "### Exercise 3\n",
    "Create a function that takes in a list of strings and filters out the strings that DO NOT contain vowels. "
   ]
  },
  {
   "cell_type": "code",
   "execution_count": null,
   "metadata": {},
   "outputs": [],
   "source": [
    "string_list = ['Sheldon','Pnny','Leonard','Hwrd','Rj','Amy','Strt']\n",
    "# output = ['Sheldon','Leonard','Amy']\n",
    "\n",
    "def vowel(list1):\n",
    "    new_list = []\n",
    "    vowels = ['a', 'e', 'i', 'o', 'u']\n",
    "    for name in list1:\n",
    "        for letter in name:\n",
    "            if letter.lower() in vowels:\n",
    "                new_list.append(name)\n",
    "                break\n",
    "                \n",
    "    return new_list\n",
    "\n",
    "print(vowel(string_list))\n",
    "\n",
    "#OR\n",
    "\n",
    "def get_count_dict(input_list):\n",
    "    output_dict = {}\n",
    "\n",
    "    for item in input_list:\n",
    "        if output_dict.get(item) == None:\n",
    "            output_dict[item] = 1\n",
    "        else:\n",
    "            output_dict[item] = output_dict[item] +1\n",
    "    return output_dict\n",
    "\n",
    "print(get_count_dict(example_list))\n",
    "\n"
   ]
  },
  {
   "cell_type": "code",
   "execution_count": null,
   "metadata": {},
   "outputs": [],
   "source": []
  },
  {
   "cell_type": "code",
   "execution_count": null,
   "metadata": {},
   "outputs": [],
   "source": []
  },
  {
   "cell_type": "markdown",
   "metadata": {},
   "source": [
    "### Exercise 4\n",
    "Create a function that accepts a list as a parameter and returns a dictionary containing the list items as it's keys, and the number of times they appear in the list as the values"
   ]
  },
  {
   "cell_type": "code",
   "execution_count": null,
   "metadata": {},
   "outputs": [],
   "source": [
    "example_list = [\"Harry\", 'Hermione','Harry','Ron','Dobby','Draco','Luna','Harry','Hermione','Ron','Ron','Ron']\n",
    "\n",
    "# output = {\n",
    "#     \"Harry\":3,\n",
    "#     \"Hermione\":2,\n",
    "#     \"Ron\":4,\n",
    "#     \"Dobby\":1,\n",
    "#     \"Draco\":1,\n",
    "#     \"Luna\": 1\n",
    "# }\n",
    "\n",
    "count_name = {}\n",
    "\n",
    "for name in example_list:\n",
    "    if name in count_name:\n",
    "        count_name[name] += 1\n",
    "    else:\n",
    "        count_name[name] = 1\n",
    "\n",
    "print(count_name)\n",
    "\n",
    "#OR\n",
    "\n",
    "def new_dict(lists):\n",
    "    empty_dict = {}\n",
    "    for name in lists:\n",
    "        if name not in empty_dict: \n",
    "            empty_dict[name] = 1 #adds name to dict\n",
    "        else: \n",
    "            empty_dict[name] += 1; #increments by 1 if name is in dict\n",
    "    return empty_dict\n",
    "new_dict(example_list)\n"
   ]
  },
  {
   "cell_type": "markdown",
   "metadata": {},
   "source": [
    "\n",
    "\n",
    "## Scope <br>\n",
    "<p>Scope refers to the ability to access variables, different types of scope include:<br>a) Global<br>b) Function (local)<br>c) Class (local)</p>"
   ]
  },
  {
   "cell_type": "code",
   "execution_count": null,
   "metadata": {},
   "outputs": [],
   "source": [
    "# placement of variable declaration matters\n",
    "\n",
    "\n",
    "print(num1)"
   ]
  },
  {
   "cell_type": "markdown",
   "metadata": {},
   "source": [
    "## Modules"
   ]
  },
  {
   "cell_type": "markdown",
   "metadata": {},
   "source": [
    "##### Importing Entire Modules\n"
   ]
  },
  {
   "cell_type": "code",
   "execution_count": null,
   "metadata": {},
   "outputs": [],
   "source": [
    "## Modules\n",
    "\n",
    "\n"
   ]
  },
  {
   "cell_type": "markdown",
   "metadata": {},
   "source": [
    "##### Importing Methods Only"
   ]
  },
  {
   "cell_type": "code",
   "execution_count": null,
   "metadata": {},
   "outputs": [],
   "source": [
    "# from xxx import yyy\n",
    "#from math import floor\n"
   ]
  },
  {
   "cell_type": "markdown",
   "metadata": {},
   "source": [
    "##### Using the 'as' Keyword"
   ]
  },
  {
   "cell_type": "code",
   "execution_count": null,
   "metadata": {},
   "outputs": [],
   "source": [
    "# from xxx import yyy as z\n"
   ]
  },
  {
   "cell_type": "markdown",
   "metadata": {},
   "source": [
    "##### Creating a Module"
   ]
  },
  {
   "cell_type": "code",
   "execution_count": null,
   "metadata": {},
   "outputs": [],
   "source": [
    "from module import printName as pn\n",
    "\n"
   ]
  },
  {
   "cell_type": "code",
   "execution_count": null,
   "metadata": {},
   "outputs": [],
   "source": []
  },
  {
   "cell_type": "code",
   "execution_count": null,
   "metadata": {},
   "outputs": [],
   "source": []
  },
  {
   "cell_type": "markdown",
   "metadata": {},
   "source": [
    "# Homework Exercises"
   ]
  },
  {
   "cell_type": "markdown",
   "metadata": {},
   "source": [
    "### 1) Create a Module in VS Code and Import It into jupyter notebook <br>\n",
    "<p><b>Module should have the following capabilities:</b><br><br>\n",
    "1a) Has a function to calculate the square footage of a house <br>\n",
    "    <b>Reminder of Formula: Length X Width == Area</b><br>\n",
    "        <hr>\n",
    "1b) Has a function to calculate the circumference of a circle 2 Pi r <br><br>\n",
    "<b>Program in Jupyter Notebook should take in user input and use imported functions to calculate a circle's circumference or a houses square footage</b>\n",
    "</p>"
   ]
  },
  {
   "cell_type": "code",
   "execution_count": null,
   "metadata": {},
   "outputs": [],
   "source": [
    "#geometry.py\n",
    "def calculate_square_footage(length, width):\n",
    "    \"\"\"\n",
    "    Calculate the square footage of a house.\n",
    "\n",
    "    Args:\n",
    "        length (float): The length of the house.\n",
    "        width (float): The width of the house.\n",
    "\n",
    "    Returns:\n",
    "        float: The square footage of the house.\n",
    "    \"\"\"\n",
    "    return length * width\n",
    "\n",
    "def calculate_circumference(radius):\n",
    "    \"\"\"\n",
    "    Calculate the circumference of a circle.\n",
    "\n",
    "    Args:\n",
    "        radius (float): The radius of the circle.\n",
    "\n",
    "    Returns:\n",
    "        float: The circumference of the circle.\n",
    "    \"\"\"\n",
    "    import math\n",
    "    return 2 * math.pi * radius"
   ]
  },
  {
   "cell_type": "code",
   "execution_count": null,
   "metadata": {},
   "outputs": [],
   "source": []
  },
  {
   "cell_type": "code",
   "execution_count": null,
   "metadata": {},
   "outputs": [],
   "source": [
    "import geometry\n",
    "\n",
    "# Calculate square footage of a house\n",
    "length = 10.0\n",
    "width = 8.0\n",
    "square_footage = geometry.calculate_square_footage(length, width)\n",
    "print(f\"Square Footage: {square_footage} sq. ft\")\n",
    "\n",
    "# Calculate the circumference of a circle\n",
    "radius = 5.0\n",
    "circumference = geometry.calculate_circumference(radius)\n",
    "print(f\"Circumference: {circumference} units\")"
   ]
  },
  {
   "cell_type": "markdown",
   "metadata": {},
   "source": [
    "### 2) Build a Shopping Cart Function <br>\n",
    "<p><b>You can use either lists or dictionaries. The program should have the following capabilities:</b><br><br>\n",
    "1) Takes in input <br>\n",
    "2) Stores user input into a dictionary or list <br>\n",
    "3) The User can add or delete items <br>\n",
    "4) The User can see current shopping list <br>\n",
    "5) The program Loops until user 'quits' <br>\n",
    "6) Upon quiting the program, print out all items in the user's list <br>\n",
    "</p>"
   ]
  }
 ],
 "metadata": {
  "kernelspec": {
   "display_name": "Python 3 (ipykernel)",
   "language": "python",
   "name": "python3"
  },
  "language_info": {
   "codemirror_mode": {
    "name": "ipython",
    "version": 3
   },
   "file_extension": ".py",
   "mimetype": "text/x-python",
   "name": "python",
   "nbconvert_exporter": "python",
   "pygments_lexer": "ipython3",
   "version": "3.11.4"
  }
 },
 "nbformat": 4,
 "nbformat_minor": 2
}
